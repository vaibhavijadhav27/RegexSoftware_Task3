{
  "nbformat": 4,
  "nbformat_minor": 0,
  "metadata": {
    "colab": {
      "name": "RegexSoftware_Task3.ipynb",
      "provenance": [],
      "authorship_tag": "ABX9TyM7z2KaNjkp0NPJcWWA2ltg",
      "include_colab_link": true
    },
    "kernelspec": {
      "name": "python3",
      "display_name": "Python 3"
    },
    "language_info": {
      "name": "python"
    }
  },
  "cells": [
    {
      "cell_type": "markdown",
      "metadata": {
        "id": "view-in-github",
        "colab_type": "text"
      },
      "source": [
        "<a href=\"https://colab.research.google.com/github/vaibhavijadhav27/RegexSoftware_Task3/blob/main/RegexSoftware_Task3.ipynb\" target=\"_parent\"><img src=\"https://colab.research.google.com/assets/colab-badge.svg\" alt=\"Open In Colab\"/></a>"
      ]
    },
    {
      "cell_type": "markdown",
      "metadata": {
        "id": "gUno3yyOOLxh"
      },
      "source": [
        "## **#TASK 3**\n",
        "## **Registration ID: SIRSS2278**\n",
        "## **Name: Vaibhavi Jadhav** \n"
      ]
    },
    {
      "cell_type": "markdown",
      "metadata": {
        "id": "UY6rGpgsPZPD"
      },
      "source": [
        "\n",
        "**Q1. Function to return nth term Fibonacci series**"
      ]
    },
    {
      "cell_type": "code",
      "metadata": {
        "colab": {
          "base_uri": "https://localhost:8080/"
        },
        "id": "UTu7GyoIOK-5",
        "outputId": "21d130d7-3312-43ee-fa7d-92e94284acd3"
      },
      "source": [
        "def fibo(n):\n",
        "    a=1\n",
        "    b=1\n",
        "    if n==1:\n",
        "        print('0')\n",
        "    elif n==2:\n",
        "        print('0','1')\n",
        "    else:\n",
        "        print('0',a,b,end=' ')\n",
        "        for i in range(n-3):\n",
        "            total = a + b\n",
        "            b=a\n",
        "            a= total\n",
        "            print(total,end=' ')\n",
        "           \n",
        "n=int(input(\"Enter the number:\"))\n",
        "fibo(n)"
      ],
      "execution_count": 8,
      "outputs": [
        {
          "output_type": "stream",
          "text": [
            "Enter the number:10\n",
            "0 1 1 2 3 5 8 13 21 34 "
          ],
          "name": "stdout"
        }
      ]
    },
    {
      "cell_type": "markdown",
      "metadata": {
        "id": "YffTskLAP9Kh"
      },
      "source": [
        "**Q2. GCD of two numbers using EUCLID's Algorithm**"
      ]
    },
    {
      "cell_type": "code",
      "metadata": {
        "colab": {
          "base_uri": "https://localhost:8080/"
        },
        "id": "MI_sWQ6tQFsi",
        "outputId": "99f046ed-997f-469a-c4c5-7885e57ee138"
      },
      "source": [
        "def gcd(a,b):\n",
        "    if a< b: \n",
        "        (a,b) = (b,a)\n",
        "    while (a % b != 0):\n",
        "        (a, b) = (b, a % b)\n",
        "    return b\n",
        "\n",
        "a=int(input(\"Enter first number:\"))\n",
        "b=int(input(\"Enter second number:\"))\n",
        "print(gcd(a,b))"
      ],
      "execution_count": 9,
      "outputs": [
        {
          "output_type": "stream",
          "text": [
            "Enter first number:6\n",
            "Enter second number:8\n",
            "2\n"
          ],
          "name": "stdout"
        }
      ]
    },
    {
      "cell_type": "markdown",
      "metadata": {
        "id": "LfRareTRQQug"
      },
      "source": [
        "**Q3.LCM of two numbers in most optimizer way.**"
      ]
    },
    {
      "cell_type": "code",
      "metadata": {
        "colab": {
          "base_uri": "https://localhost:8080/"
        },
        "id": "SsJwqR-mQW35",
        "outputId": "2827599f-2282-4cce-bdcb-7a9b60bb6084"
      },
      "source": [
        "def gcd(x, y):\n",
        "\n",
        "   while(y):\n",
        "       x, y = y, x % y\n",
        "   return x\n",
        "\n",
        "\n",
        "def lcm(x, y):\n",
        "   lcm = (x*y)//gcd(x,y)\n",
        "   return lcm\n",
        "\n",
        "num1 = int(input(\"Enter the first number:\"))\n",
        "num2 = int(input(\"Enter the second number:\"))\n",
        "print(\"The LCM of these numbers :\", lcm(num1,num2) )"
      ],
      "execution_count": 10,
      "outputs": [
        {
          "output_type": "stream",
          "text": [
            "Enter the first number:2\n",
            "Enter the second number:3\n",
            "The LCM of these numbers : 6\n"
          ],
          "name": "stdout"
        }
      ]
    }
  ]
}